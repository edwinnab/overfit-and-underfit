{
 "cells": [
  {
   "cell_type": "code",
   "execution_count": 1,
   "metadata": {},
   "outputs": [
    {
     "name": "stdout",
     "output_type": "stream",
     "text": [
      "2.2.0\n"
     ]
    }
   ],
   "source": [
    "import tensorflow as tf\n",
    "\n",
    "from tensorflow.keras import layers\n",
    "from tensorflow.keras import regularizers\n",
    "\n",
    "print(tf.__version__)"
   ]
  },
  {
   "cell_type": "code",
   "execution_count": 2,
   "metadata": {},
   "outputs": [],
   "source": [
    "import tensorflow_docs as tfdocs\n",
    "import tensorflow_docs.modeling\n",
    "import tensorflow_docs.plots\n",
    "\n",
    "\n",
    "from  IPython import display\n",
    "from matplotlib import pyplot as plt\n",
    "\n",
    "import numpy as np\n",
    "\n",
    "import pathlib\n",
    "import shutil\n",
    "import tempfile"
   ]
  },
  {
   "cell_type": "code",
   "execution_count": 3,
   "metadata": {},
   "outputs": [],
   "source": [
    "logdir = pathlib.Path(tempfile.mkdtemp())/\"tensorboard_logs\"\n",
    "shutil.rmtree(logdir, ignore_errors=True)"
   ]
  },
  {
   "cell_type": "code",
   "execution_count": 4,
   "metadata": {},
   "outputs": [],
   "source": [
    "#downloads the higgs dataset\n",
    "\n",
    "gz = tf.keras.utils.get_file('HIGGS.csv.gz', 'http://mlphysics.ics.uci.edu/data/higgs/HIGGS.csv.gz')\n",
    "\n",
    "FEATURES = 28"
   ]
  },
  {
   "cell_type": "code",
   "execution_count": 5,
   "metadata": {},
   "outputs": [
    {
     "name": "stdout",
     "output_type": "stream",
     "text": [
      "tf.Tensor(\n",
      "[ 0.8692932  -0.6350818   0.22569026  0.32747006 -0.6899932   0.75420225\n",
      " -0.24857314 -1.0920639   0.          1.3749921  -0.6536742   0.9303491\n",
      "  1.1074361   1.1389043  -1.5781983  -1.0469854   0.          0.65792954\n",
      " -0.01045457 -0.04576717  3.1019614   1.35376     0.9795631   0.97807616\n",
      "  0.92000484  0.72165745  0.98875093  0.87667835], shape=(28,), dtype=float32)\n"
     ]
    },
    {
     "data": {
      "image/png": "[encoded data removed]",
      "text/plain": [
       "<Figure size 432x288 with 1 Axes>"
      ]
     },
     "metadata": {
      "needs_background": "light"
     },
     "output_type": "display_data"
    }
   ],
   "source": [
    "#returns a list of scalars for each record\n",
    "ds = tf.data.experimental.CsvDataset(gz, [float(),] * (FEATURES + 1), compression_type = \"GZIP\")\n",
    "\n",
    "#repacks the scalars into a (feature_vector,label)pair\n",
    "\n",
    "def pack_row(*row):\n",
    "    label = row[0]\n",
    "    features = tf.stack(row[1:],1)\n",
    "    return features, label\n",
    "\n",
    "#repacks into a new datset of 10000 examples\n",
    "\n",
    "packed_ds = ds.batch(10000).map(pack_row).unbatch()\n",
    "\n",
    "#display the new dataset\n",
    "\n",
    "for features, label in packed_ds.batch(1000).take(1):\n",
    "    print(features[0])\n",
    "    plt.hist(features.numpy().flatten(),bins = 101)"
   ]
  },
  {
   "cell_type": "code",
   "execution_count": 6,
   "metadata": {},
   "outputs": [
    {
     "data": {
      "text/plain": [
       "<BatchDataset shapes: ((None, 28), (None,)), types: (tf.float32, tf.float32)>"
      ]
     },
     "execution_count": 6,
     "metadata": {},
     "output_type": "execute_result"
    }
   ],
   "source": [
    "#training and validation each sample 1000 = validation, 10000 = testing\n",
    "\n",
    "N_VALIDATION = int(1e3)\n",
    "N_TRAIN = int(1e4)\n",
    "BUFFER_SIZE = int(1e4)\n",
    "BATCH_SIZE = 500\n",
    "STEPS_PER_EPOCH = N_TRAIN//BATCH_SIZE\n",
    "\n",
    "#dataset.cache method ensures that the loader doesn't need to re-read the data from each file\n",
    "\n",
    "validate_ds = packed_ds.take(N_VALIDATION).cache()\n",
    "train_ds = packed_ds.skip(N_VALIDATION).take(N_TRAIN).cache()\n",
    "\n",
    "\n",
    "#shuffle and repeat \n",
    "validate_ds = validate_ds.batch(BATCH_SIZE)\n",
    "train_ds = train_ds.shuffle(BUFFER_SIZE).repeat().batch(BATCH_SIZE)\n",
    "\n",
    "\n",
    "train_ds\n",
    "\n"
   ]
  },
  {
   "cell_type": "code",
   "execution_count": 7,
   "metadata": {},
   "outputs": [
    {
     "data": {
      "image/png": "[encoded data removed]",
      "text/plain": [
       "<Figure size 576x432 with 1 Axes>"
      ]
     },
     "metadata": {
      "needs_background": "light"
     },
     "output_type": "display_data"
    }
   ],
   "source": [
    "#training procdure\n",
    "#reduces the learning rate \n",
    "\n",
    "lr_schedule = tf.keras.optimizers.schedules.InverseTimeDecay(\n",
    "  0.001,\n",
    "  decay_steps=STEPS_PER_EPOCH*1000,\n",
    "  decay_rate=1,\n",
    "  staircase=False)\n",
    "\n",
    "def get_optimizer():\n",
    "    return tf.keras.optimizers.Adam(lr_schedule)\n",
    "\n",
    "step = np.linspace(0,100000)\n",
    "lr = lr_schedule(step)\n",
    "plt.figure(figsize = (8,6))\n",
    "plt.plot(step/STEPS_PER_EPOCH, lr)\n",
    "plt.ylim([0,max(plt.ylim())])\n",
    "plt.xlabel('Epoch')\n",
    "_ = plt.ylabel('Learning Rate')\n"
   ]
  },
  {
   "cell_type": "code",
   "execution_count": 8,
   "metadata": {},
   "outputs": [],
   "source": [
    "#avoid long and unnecessary training times\n",
    "#generate tensorboards logs for training\n",
    "\n",
    "def get_callbacks(name):\n",
    "    return [\n",
    "    tfdocs.modeling.EpochDots(),\n",
    "    tf.keras.callbacks.EarlyStopping(monitor='val_binary_crossentropy', patience=200),\n",
    "    tf.keras.callbacks.TensorBoard(logdir/name),\n",
    "    ]\n",
    "\n",
    "#the models will share the same model.compile and model.fit\n",
    "def compile_and_fit(model, name, optimizer=None, max_epochs=10000):\n",
    "    if optimizer is None:\n",
    "        optimizer = get_optimizer()\n",
    "    model.compile(optimizer=optimizer,\n",
    "                loss=tf.keras.losses.BinaryCrossentropy(from_logits=True),\n",
    "                metrics=[\n",
    "                  tf.keras.losses.BinaryCrossentropy(\n",
    "                      from_logits=True, name='binary_crossentropy'),\n",
    "                  'accuracy'])\n",
    "\n",
    "    model.summary()\n",
    "\n",
    "    history = model.fit(\n",
    "    train_ds,\n",
    "    steps_per_epoch = STEPS_PER_EPOCH,\n",
    "    epochs=max_epochs,\n",
    "    validation_data=validate_ds,\n",
    "    callbacks=get_callbacks(name),\n",
    "    verbose=0)\n",
    "    return history"
   ]
  },
  {
   "cell_type": "code",
   "execution_count": 9,
   "metadata": {},
   "outputs": [
    {
     "name": "stdout",
     "output_type": "stream",
     "text": [
      "Model: \"sequential\"\n",
      "_________________________________________________________________\n",
      "Layer (type)                 Output Shape              Param #   \n",
      "=================================================================\n",
      "dense (Dense)                (None, 16)                464       \n",
      "_________________________________________________________________\n",
      "dense_1 (Dense)              (None, 1)                 17        \n",
      "=================================================================\n",
      "Total params: 481\n",
      "Trainable params: 481\n",
      "Non-trainable params: 0\n",
      "_________________________________________________________________\n",
      "\n",
      "Epoch: 0, accuracy:0.4738,  binary_crossentropy:1.0813,  loss:1.0813,  val_accuracy:0.4600,  val_binary_crossentropy:0.9195,  val_loss:0.9195,  \n",
      "....................................................................................................\n",
      "Epoch: 100, accuracy:0.6074,  binary_crossentropy:0.6231,  loss:0.6231,  val_accuracy:0.5620,  val_binary_crossentropy:0.6357,  val_loss:0.6357,  \n",
      "....................................................................................................\n",
      "Epoch: 200, accuracy:0.6327,  binary_crossentropy:0.6072,  loss:0.6072,  val_accuracy:0.6040,  val_binary_crossentropy:0.6229,  val_loss:0.6229,  \n",
      "....................................................................................................\n",
      "Epoch: 300, accuracy:0.6524,  binary_crossentropy:0.5935,  loss:0.5935,  val_accuracy:0.6160,  val_binary_crossentropy:0.6102,  val_loss:0.6102,  \n",
      "....................................................................................................\n",
      "Epoch: 400, accuracy:0.6665,  binary_crossentropy:0.5833,  loss:0.5833,  val_accuracy:0.6360,  val_binary_crossentropy:0.6015,  val_loss:0.6015,  \n",
      "....................................................................................................\n",
      "Epoch: 500, accuracy:0.6728,  binary_crossentropy:0.5770,  loss:0.5770,  val_accuracy:0.6370,  val_binary_crossentropy:0.6007,  val_loss:0.6007,  \n",
      "....................................................................................................\n",
      "Epoch: 600, accuracy:0.6795,  binary_crossentropy:0.5737,  loss:0.5737,  val_accuracy:0.6460,  val_binary_crossentropy:0.6016,  val_loss:0.6016,  \n",
      "................................................................................................"
     ]
    }
   ],
   "source": [
    "#train a tiny model first\n",
    "\n",
    "tiny_model = tf.keras.Sequential([\n",
    "    layers.Dense(16, activation='relu', input_shape=(FEATURES,)),\n",
    "    layers.Dense(1)\n",
    "])\n",
    "size_histories = {}\n",
    "size_histories['Tiny'] = compile_and_fit(tiny_model, 'sizes/Tiny')"
   ]
  },
  {
   "cell_type": "code",
   "execution_count": 10,
   "metadata": {},
   "outputs": [
    {
     "data": {
      "text/plain": [
       "(0.5, 0.7)"
      ]
     },
     "execution_count": 10,
     "metadata": {},
     "output_type": "execute_result"
    },
    {
     "data": {
      "image/png": "[encoded data removed]",
      "text/plain": [
       "<Figure size 432x288 with 1 Axes>"
      ]
     },
     "metadata": {
      "needs_background": "light"
     },
     "output_type": "display_data"
    }
   ],
   "source": [
    "#performance of the model\n",
    "\n",
    "plotter = tfdocs.plots.HistoryPlotter(metric = 'binary_crossentropy', smoothing_std=10)\n",
    "plotter.plot(size_histories)\n",
    "plt.ylim([0.5, 0.7])"
   ]
  },
  {
   "cell_type": "code",
   "execution_count": 11,
   "metadata": {},
   "outputs": [
    {
     "name": "stdout",
     "output_type": "stream",
     "text": [
      "Model: \"sequential_1\"\n",
      "_________________________________________________________________\n",
      "Layer (type)                 Output Shape              Param #   \n",
      "=================================================================\n",
      "dense_2 (Dense)              (None, 16)                464       \n",
      "_________________________________________________________________\n",
      "dense_3 (Dense)              (None, 16)                272       \n",
      "_________________________________________________________________\n",
      "dense_4 (Dense)              (None, 1)                 17        \n",
      "=================================================================\n",
      "Total params: 753\n",
      "Trainable params: 753\n",
      "Non-trainable params: 0\n",
      "_________________________________________________________________\n",
      "\n",
      "Epoch: 0, accuracy:0.4565,  binary_crossentropy:0.7275,  loss:0.7275,  val_accuracy:0.4430,  val_binary_crossentropy:0.7027,  val_loss:0.7027,  \n",
      "....................................................................................................\n",
      "Epoch: 100, accuracy:0.6239,  binary_crossentropy:0.6165,  loss:0.6165,  val_accuracy:0.5910,  val_binary_crossentropy:0.6274,  val_loss:0.6274,  \n",
      "....................................................................................................\n",
      "Epoch: 200, accuracy:0.6564,  binary_crossentropy:0.5949,  loss:0.5949,  val_accuracy:0.6510,  val_binary_crossentropy:0.6034,  val_loss:0.6034,  \n",
      "....................................................................................................\n",
      "Epoch: 300, accuracy:0.6666,  binary_crossentropy:0.5848,  loss:0.5848,  val_accuracy:0.6450,  val_binary_crossentropy:0.5993,  val_loss:0.5993,  \n",
      "....................................................................................................\n",
      "Epoch: 400, accuracy:0.6717,  binary_crossentropy:0.5778,  loss:0.5778,  val_accuracy:0.6590,  val_binary_crossentropy:0.5957,  val_loss:0.5957,  \n",
      "....................................................................................................\n",
      "Epoch: 500, accuracy:0.6800,  binary_crossentropy:0.5727,  loss:0.5727,  val_accuracy:0.6410,  val_binary_crossentropy:0.5989,  val_loss:0.5989,  \n",
      "....................................................................................................\n",
      "Epoch: 600, accuracy:0.6818,  binary_crossentropy:0.5710,  loss:0.5710,  val_accuracy:0.6750,  val_binary_crossentropy:0.5902,  val_loss:0.5902,  \n",
      "....................................................................................................\n",
      "Epoch: 700, accuracy:0.6864,  binary_crossentropy:0.5668,  loss:0.5668,  val_accuracy:0.6760,  val_binary_crossentropy:0.5879,  val_loss:0.5879,  \n",
      "....................................................................................................\n",
      "Epoch: 800, accuracy:0.6926,  binary_crossentropy:0.5630,  loss:0.5630,  val_accuracy:0.6700,  val_binary_crossentropy:0.5887,  val_loss:0.5887,  \n",
      "....................................................................................................\n",
      "Epoch: 900, accuracy:0.6938,  binary_crossentropy:0.5603,  loss:0.5603,  val_accuracy:0.6800,  val_binary_crossentropy:0.5863,  val_loss:0.5863,  \n",
      "....................................................................................................\n",
      "Epoch: 1000, accuracy:0.6959,  binary_crossentropy:0.5578,  loss:0.5578,  val_accuracy:0.6720,  val_binary_crossentropy:0.5883,  val_loss:0.5883,  \n",
      "....................................................................................................\n",
      "Epoch: 1100, accuracy:0.6971,  binary_crossentropy:0.5546,  loss:0.5546,  val_accuracy:0.6620,  val_binary_crossentropy:0.5918,  val_loss:0.5918,  \n",
      "....................................................................................................\n",
      "Epoch: 1200, accuracy:0.7007,  binary_crossentropy:0.5526,  loss:0.5526,  val_accuracy:0.6670,  val_binary_crossentropy:0.5884,  val_loss:0.5884,  \n",
      "................................"
     ]
    }
   ],
   "source": [
    "#small model you need to add two hidden layers of 16 units each\n",
    "\n",
    "small_model = tf.keras.Sequential([\n",
    "    # `input_shape` is only required here so that `.summary` works.\n",
    "    layers.Dense(16, activation='elu', input_shape=(FEATURES,)),\n",
    "    layers.Dense(16, activation='elu'),\n",
    "    layers.Dense(1)\n",
    "])\n",
    "size_histories['Small'] = compile_and_fit(small_model, 'sizes/Small')"
   ]
  },
  {
   "cell_type": "code",
   "execution_count": 12,
   "metadata": {},
   "outputs": [
    {
     "name": "stdout",
     "output_type": "stream",
     "text": [
      "Model: \"sequential_2\"\n",
      "_________________________________________________________________\n",
      "Layer (type)                 Output Shape              Param #   \n",
      "=================================================================\n",
      "dense_5 (Dense)              (None, 64)                1856      \n",
      "_________________________________________________________________\n",
      "dense_6 (Dense)              (None, 64)                4160      \n",
      "_________________________________________________________________\n",
      "dense_7 (Dense)              (None, 64)                4160      \n",
      "_________________________________________________________________\n",
      "dense_8 (Dense)              (None, 1)                 65        \n",
      "=================================================================\n",
      "Total params: 10,241\n",
      "Trainable params: 10,241\n",
      "Non-trainable params: 0\n",
      "_________________________________________________________________\n",
      "\n",
      "Epoch: 0, accuracy:0.5109,  binary_crossentropy:0.6806,  loss:0.6806,  val_accuracy:0.5210,  val_binary_crossentropy:0.6663,  val_loss:0.6663,  \n",
      "....................................................................................................\n",
      "Epoch: 100, accuracy:0.7154,  binary_crossentropy:0.5330,  loss:0.5330,  val_accuracy:0.6770,  val_binary_crossentropy:0.6107,  val_loss:0.6107,  \n",
      "....................................................................................................\n",
      "Epoch: 200, accuracy:0.7837,  binary_crossentropy:0.4382,  loss:0.4382,  val_accuracy:0.6620,  val_binary_crossentropy:0.6740,  val_loss:0.6740,  \n",
      "............................................................................."
     ]
    }
   ],
   "source": [
    "#medium model has 3 hidden layers of 64 units\n",
    "\n",
    "medium_model = tf.keras.Sequential([\n",
    "    layers.Dense(64, activation='elu', input_shape=(FEATURES,)),\n",
    "    layers.Dense(64, activation='elu'),\n",
    "    layers.Dense(64, activation='elu'),\n",
    "    layers.Dense(1)\n",
    "])\n",
    "\n",
    "\n",
    "size_histories['Medium']  = compile_and_fit(medium_model, \"sizes/Medium\")"
   ]
  },
  {
   "cell_type": "code",
   "execution_count": 13,
   "metadata": {},
   "outputs": [
    {
     "name": "stdout",
     "output_type": "stream",
     "text": [
      "Model: \"sequential_3\"\n",
      "_________________________________________________________________\n",
      "Layer (type)                 Output Shape              Param #   \n",
      "=================================================================\n",
      "dense_9 (Dense)              (None, 512)               14848     \n",
      "_________________________________________________________________\n",
      "dense_10 (Dense)             (None, 512)               262656    \n",
      "_________________________________________________________________\n",
      "dense_11 (Dense)             (None, 512)               262656    \n",
      "_________________________________________________________________\n",
      "dense_12 (Dense)             (None, 512)               262656    \n",
      "_________________________________________________________________\n",
      "dense_13 (Dense)             (None, 1)                 513       \n",
      "=================================================================\n",
      "Total params: 803,329\n",
      "Trainable params: 803,329\n",
      "Non-trainable params: 0\n",
      "_________________________________________________________________\n",
      "\n",
      "Epoch: 0, accuracy:0.5029,  binary_crossentropy:0.8338,  loss:0.8338,  val_accuracy:0.5350,  val_binary_crossentropy:0.6911,  val_loss:0.6911,  \n",
      "....................................................................................................\n",
      "Epoch: 100, accuracy:1.0000,  binary_crossentropy:0.0026,  loss:0.0026,  val_accuracy:0.6510,  val_binary_crossentropy:1.6940,  val_loss:1.6940,  \n",
      "....................................................................................................\n",
      "Epoch: 200, accuracy:1.0000,  binary_crossentropy:0.0002,  loss:0.0002,  val_accuracy:0.6500,  val_binary_crossentropy:2.3226,  val_loss:2.3226,  \n",
      "................"
     ]
    }
   ],
   "source": [
    "#large model\n",
    "\n",
    "large_model = tf.keras.Sequential([\n",
    "    layers.Dense(512, activation='elu', input_shape=(FEATURES,)),\n",
    "    layers.Dense(512, activation='elu'),\n",
    "    layers.Dense(512, activation='elu'),\n",
    "    layers.Dense(512, activation='elu'),\n",
    "    layers.Dense(1)\n",
    "])\n",
    "\n",
    "size_histories['large'] = compile_and_fit(large_model, \"sizes/large\")"
   ]
  },
  {
   "cell_type": "code",
   "execution_count": 14,
   "metadata": {},
   "outputs": [
    {
     "data": {
      "text/plain": [
       "Text(0.5, 0, 'Epochs [Log Scale]')"
      ]
     },
     "execution_count": 14,
     "metadata": {},
     "output_type": "execute_result"
    },
    {
     "data": {
      "image/png": "[encoded data removed]",
      "text/plain": [
       "<Figure size 432x288 with 1 Axes>"
      ]
     },
     "metadata": {
      "needs_background": "light"
     },
     "output_type": "display_data"
    }
   ],
   "source": [
    "#lower validation indicates a better model\n",
    "\n",
    "plotter.plot(size_histories)\n",
    "a = plt.xscale('log')\n",
    "plt.xlim([5, max(plt.xlim())])\n",
    "plt.ylim([0.5, 0.7])\n",
    "plt.xlabel(\"Epochs [Log Scale]\")"
   ]
  },
  {
   "cell_type": "code",
   "execution_count": 15,
   "metadata": {},
   "outputs": [
    {
     "data": {
      "text/plain": [
       "PosixPath('/tmp/tmpqh4py18n/tensorboard_logs/regularizers/Tiny')"
      ]
     },
     "execution_count": 15,
     "metadata": {},
     "output_type": "execute_result"
    }
   ],
   "source": [
    "#strategies to prevent overfitting\n",
    "\n",
    "shutil.rmtree(logdir/'regularizers/Tiny', ignore_errors=True)\n",
    "shutil.copytree(logdir/'sizes/Tiny', logdir/'regularizers/Tiny')"
   ]
  },
  {
   "cell_type": "code",
   "execution_count": 16,
   "metadata": {},
   "outputs": [],
   "source": [
    "regularizer_histories = {}\n",
    "regularizer_histories['Tiny'] = size_histories['Tiny']"
   ]
  },
  {
   "cell_type": "code",
   "execution_count": null,
   "metadata": {},
   "outputs": [
    {
     "name": "stdout",
     "output_type": "stream",
     "text": [
      "Model: \"sequential_4\"\n",
      "_________________________________________________________________\n",
      "Layer (type)                 Output Shape              Param #   \n",
      "=================================================================\n",
      "dense_14 (Dense)             (None, 512)               14848     \n",
      "_________________________________________________________________\n",
      "dense_15 (Dense)             (None, 512)               262656    \n",
      "_________________________________________________________________\n",
      "dense_16 (Dense)             (None, 512)               262656    \n",
      "_________________________________________________________________\n",
      "dense_17 (Dense)             (None, 512)               262656    \n",
      "_________________________________________________________________\n",
      "dense_18 (Dense)             (None, 1)                 513       \n",
      "=================================================================\n",
      "Total params: 803,329\n",
      "Trainable params: 803,329\n",
      "Non-trainable params: 0\n",
      "_________________________________________________________________\n",
      "\n",
      "Epoch: 0, accuracy:0.4994,  binary_crossentropy:0.8388,  loss:2.3616,  val_accuracy:0.4860,  val_binary_crossentropy:0.6834,  val_loss:2.1318,  \n",
      "....................................................................................................\n",
      "Epoch: 100, accuracy:0.6544,  binary_crossentropy:0.5971,  loss:0.6207,  val_accuracy:0.6770,  val_binary_crossentropy:0.5815,  val_loss:0.6050,  \n",
      "....................................................................................................\n",
      "Epoch: 200, accuracy:0.6726,  binary_crossentropy:0.5856,  loss:0.6081,  val_accuracy:0.6520,  val_binary_crossentropy:0.5823,  val_loss:0.6048,  \n",
      "....................................................................................................\n",
      "Epoch: 300, accuracy:0.6824,  binary_crossentropy:0.5741,  loss:0.5970,  val_accuracy:0.6970,  val_binary_crossentropy:0.5714,  val_loss:0.5943,  \n",
      "............................................"
     ]
    }
   ],
   "source": [
    "#l2 Regularization\n",
    "\n",
    "l2_model = tf.keras.Sequential([\n",
    "    layers.Dense(512, activation='elu',\n",
    "                 kernel_regularizer=regularizers.l2(0.001),\n",
    "                 input_shape=(FEATURES,)),\n",
    "    layers.Dense(512, activation='elu',\n",
    "                 kernel_regularizer=regularizers.l2(0.001)),\n",
    "    layers.Dense(512, activation='elu',\n",
    "                 kernel_regularizer=regularizers.l2(0.001)),\n",
    "    layers.Dense(512, activation='elu',\n",
    "                 kernel_regularizer=regularizers.l2(0.001)),\n",
    "    layers.Dense(1)\n",
    "])\n",
    "\n",
    "regularizer_histories['l2'] = compile_and_fit(l2_model, \"regularizers/l2\")"
   ]
  },
  {
   "cell_type": "code",
   "execution_count": null,
   "metadata": {},
   "outputs": [],
   "source": [
    "#large model with l2 Regularization\n",
    "\n",
    "plotter.plot(regularizer_histories)\n",
    "plt.ylim([0.5, 0.7])"
   ]
  },
  {
   "cell_type": "code",
   "execution_count": null,
   "metadata": {},
   "outputs": [],
   "source": [
    "#dropout layer\n",
    "\n",
    "dropout_model = tf.keras.Sequential([\n",
    "    layers.Dense(512, activation='elu', input_shape=(FEATURES,)),\n",
    "    layers.Dropout(0.5),\n",
    "    layers.Dense(512, activation='elu'),\n",
    "    layers.Dropout(0.5),\n",
    "    layers.Dense(512, activation='elu'),\n",
    "    layers.Dropout(0.5),\n",
    "    layers.Dense(512, activation='elu'),\n",
    "    layers.Dropout(0.5),\n",
    "    layers.Dense(1)\n",
    "])\n",
    "\n",
    "regularizer_histories['dropout'] = compile_and_fit(dropout_model, \"regularizers/dropout\")"
   ]
  },
  {
   "cell_type": "code",
   "execution_count": null,
   "metadata": {},
   "outputs": [],
   "source": [
    "plotter.plot(regularizer_histories)\n",
    "plt.ylim([0.5, 0.7])"
   ]
  },
  {
   "cell_type": "code",
   "execution_count": null,
   "metadata": {},
   "outputs": [],
   "source": []
  }
 ],
 "metadata": {
  "kernelspec": {
   "display_name": "Python 3",
   "language": "python",
   "name": "python3"
  },
  "language_info": {
   "codemirror_mode": {
    "name": "ipython",
    "version": 3
   },
   "file_extension": ".py",
   "mimetype": "text/x-python",
   "name": "python",
   "nbconvert_exporter": "python",
   "pygments_lexer": "ipython3",
   "version": "3.6.9"
  }
 },
 "nbformat": 4,
 "nbformat_minor": 4
}
